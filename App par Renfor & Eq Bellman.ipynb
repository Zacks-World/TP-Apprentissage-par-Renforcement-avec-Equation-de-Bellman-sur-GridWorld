{
 "cells": [
  {
   "cell_type": "code",
   "execution_count": 2,
   "id": "53a14008-1999-4c08-993b-0a695d32b143",
   "metadata": {},
   "outputs": [],
   "source": [
    "import numpy as np"
   ]
  },
  {
   "cell_type": "code",
   "execution_count": null,
   "id": "0424a3e6-9123-4db9-824d-74f5282e5571",
   "metadata": {},
   "outputs": [],
   "source": [
    "def GridWorld_Renforcement(n,m,success,echec,obstacle,v_success,v_echec):\n",
    "    Mat=np.zeros((n,m))\n",
    "    Mat[success]=v_success\n",
    "    Mat[echec]=v_echec\n",
    "    Mat[obstacle]=None\n",
    "    \n",
    "    return Mat"
   ]
  },
  {
   "cell_type": "code",
   "execution_count": 4,
   "id": "28e54f2e-e57e-4908-acb1-33180a576eb5",
   "metadata": {},
   "outputs": [
    {
     "data": {
      "text/plain": [
       "array([[ 0.,  0.,  0.,  1.],\n",
       "       [ 0., nan,  0., -1.],\n",
       "       [ 0.,  0.,  0.,  0.]])"
      ]
     },
     "execution_count": 4,
     "metadata": {},
     "output_type": "execute_result"
    }
   ],
   "source": [
    "GridWorld_Renforcement(3,4,(0,3),(1,3),(1,1),1,-1)\n"
   ]
  }
 ],
 "metadata": {
  "kernelspec": {
   "display_name": "base",
   "language": "python",
   "name": "python3"
  },
  "language_info": {
   "codemirror_mode": {
    "name": "ipython",
    "version": 3
   },
   "file_extension": ".py",
   "mimetype": "text/x-python",
   "name": "python",
   "nbconvert_exporter": "python",
   "pygments_lexer": "ipython3",
   "version": "3.12.7"
  }
 },
 "nbformat": 4,
 "nbformat_minor": 5
}
